{
 "cells": [
  {
   "cell_type": "markdown",
   "metadata": {},
   "source": [
    "# Rastrigin Function"
   ]
  },
  {
   "cell_type": "markdown",
   "metadata": {},
   "source": [
    "### Definitions and functions"
   ]
  },
  {
   "cell_type": "code",
   "execution_count": 1,
   "metadata": {},
   "outputs": [],
   "source": [
    "# Imports\n",
    "import random\n",
    "import math\n",
    "import matplotlib.pyplot as plt\n",
    "import copy"
   ]
  },
  {
   "cell_type": "code",
   "execution_count": 2,
   "metadata": {},
   "outputs": [],
   "source": [
    "# Implements a Rastrigin function with cache\n",
    "def rastrigin (x):\n",
    "    global computationalBudgetUsage\n",
    "    global rastriginCache\n",
    "    \n",
    "    # This cache was implemented to reduce computational budget usage\n",
    "    if str(x) in rastriginCache.keys():\n",
    "        return rastriginCache[str(x)]\n",
    "    \n",
    "    computationalBudgetUsage = computationalBudgetUsage + 1\n",
    "    f = 10 * len(x)\n",
    "    for i in range(len(x)):\n",
    "        f = f + math.pow (x[i],2) - 10 * math.cos(2 * math.pi * x[i])\n",
    "    \n",
    "    rastriginCache[str(x)] = f    \n",
    "    return f"
   ]
  },
  {
   "cell_type": "code",
   "execution_count": 3,
   "metadata": {},
   "outputs": [],
   "source": [
    "# Binary to Gray\n",
    "def binaryToGray (binary):\n",
    "    gray = [0]*len(binary)\n",
    "    gray[0] = binary[0]\n",
    "    for i in range(1, len(binary)):\n",
    "        gray[i] = str(int(binary[i-1]) ^ int(binary[i]))\n",
    "    return gray"
   ]
  },
  {
   "cell_type": "code",
   "execution_count": 4,
   "metadata": {},
   "outputs": [],
   "source": [
    "# Gray to Binary\n",
    "def grayToBinary (gray):\n",
    "    binary = [0]*len(gray)\n",
    "    binary[0] = gray[0]\n",
    "    for i in range(1, len(gray)):\n",
    "        binary[i] = str(int(binary[i-1]) ^ int(gray[i]))\n",
    "    return binary"
   ]
  },
  {
   "cell_type": "code",
   "execution_count": 5,
   "metadata": {},
   "outputs": [],
   "source": [
    "# Float to Binary\n",
    "def floatToBinary (aFloat):   \n",
    "    deltax = (variableLimitsMax - variableLimitsMin) / ( math.pow(2, bitsResolution) - 1 )\n",
    "    valueScaled = int ((aFloat - variableLimitsMin) / deltax)\n",
    "    valueBinary = (format(int(valueScaled), 'b')).zfill(bitsResolution)\n",
    "    return valueBinary"
   ]
  },
  {
   "cell_type": "code",
   "execution_count": 6,
   "metadata": {},
   "outputs": [],
   "source": [
    "# Binary to Float\n",
    "def binaryToFloat (binary):\n",
    "    k = 0\n",
    "    for j in range(bitsResolution):\n",
    "        k = k + int(binary[j]) * math.pow(2, bitsResolution - j - 1)\n",
    "    floatValue = variableLimitsMin + (variableLimitsMax - variableLimitsMin) * ( k / (math.pow(2, bitsResolution) - 1) )\n",
    "    return floatValue"
   ]
  },
  {
   "cell_type": "code",
   "execution_count": 7,
   "metadata": {},
   "outputs": [],
   "source": [
    "# Create a random individual\n",
    "def randomIndividual():\n",
    "    return ''.join(random.choice(['0','1']) for x in range(bitsResolution*variablesNumber))"
   ]
  },
  {
   "cell_type": "code",
   "execution_count": 8,
   "metadata": {},
   "outputs": [],
   "source": [
    "# Get the number of a individual for the rastrigin function\n",
    "def getNumbers(individual):\n",
    "    numbersList = []\n",
    "    splitlen = -(-len(individual) // variablesNumber)\n",
    "    for number in ( [individual[ind:ind+splitlen] for ind in range(0, len(individual), splitlen)] ):\n",
    "        binNumber = grayToBinary(number)\n",
    "        numbersList.append (binaryToFloat(binNumber))\n",
    "    return numbersList"
   ]
  },
  {
   "cell_type": "code",
   "execution_count": 9,
   "metadata": {},
   "outputs": [],
   "source": [
    "# Function that returns the fitness according to rastrigin\n",
    "def fitness(individual):\n",
    "    return rastrigin(getNumbers(individual))"
   ]
  },
  {
   "cell_type": "code",
   "execution_count": 10,
   "metadata": {},
   "outputs": [],
   "source": [
    "# Tournament selection\n",
    "def tournament(population, k):\n",
    "    candidate1 = copy.deepcopy(population[random.randrange(len(population))])\n",
    "    for i in range(k):\n",
    "        while True:\n",
    "            candidate2 = copy.deepcopy(population[random.randrange(len(population))])\n",
    "            if candidate1 != candidate2:\n",
    "                break\n",
    "    if fitness(candidate2) > fitness(candidate1):\n",
    "        return candidate2\n",
    "    else:\n",
    "        return candidate1"
   ]
  },
  {
   "cell_type": "code",
   "execution_count": 11,
   "metadata": {},
   "outputs": [],
   "source": [
    "# Roulette wheel\n",
    "def rouletteWheel(population):\n",
    "    # Create roulette\n",
    "    roulette = []\n",
    "    totalFitness = 0\n",
    "    maxFitness = fitness(population[0])\n",
    "    for i in range(len(population)):\n",
    "        if fitness(population[i]) > maxFitness:\n",
    "            maxFitness = fitness(population[i])\n",
    "    maxFitness = maxFitness + 1\n",
    "    for i in range(len(population)):\n",
    "        totalFitness = totalFitness + (maxFitness - fitness(population[i]))\n",
    "    roulettePoint = 0\n",
    "    for i in range(len(population)):\n",
    "        roulette.append ( ((maxFitness - fitness(population[i]))/totalFitness) + roulettePoint )\n",
    "        roulettePoint = roulette[i]\n",
    "    return roulette"
   ]
  },
  {
   "cell_type": "code",
   "execution_count": 12,
   "metadata": {},
   "outputs": [],
   "source": [
    "# Roulette wheel selection\n",
    "def rouletteWheelSelection(population, roulette):\n",
    "    randRoulette = random.random()\n",
    "    for i in range(len(population)):\n",
    "        if roulette[i] > randRoulette:\n",
    "            return copy.deepcopy(population[i])"
   ]
  },
  {
   "cell_type": "code",
   "execution_count": 13,
   "metadata": {},
   "outputs": [],
   "source": [
    "# Crossover\n",
    "def crossover(parent1, parent2, numberOfCuts):\n",
    "    cuts = []\n",
    "    for i in range(numberOfCuts):\n",
    "        cuts.append(random.randrange(len(parent1)))\n",
    "    cuts.sort()\n",
    "    \n",
    "    child1 = parent1[0:cuts[0]]\n",
    "    child2 = parent2[0:cuts[0]]\n",
    "    for i in range(1, numberOfCuts):\n",
    "        if i % 2 == 0:\n",
    "            child1 = child1 + parent1[cuts[i-1]:cuts[i]]\n",
    "            child2 = child2 + parent2[cuts[i-1]:cuts[i]]\n",
    "        else:\n",
    "            child1 = child1 + parent2[cuts[i-1]:cuts[i]]\n",
    "            child2 = child2 + parent1[cuts[i-1]:cuts[i]]\n",
    "    \n",
    "    \n",
    "    if numberOfCuts % 2 == 0:\n",
    "        child1 = child1 + parent1[cuts[numberOfCuts-1]:]\n",
    "        child2 = child2 + parent2[cuts[numberOfCuts-1]:]\n",
    "    else:\n",
    "        child1 = child1 + parent2[cuts[numberOfCuts-1]:]\n",
    "        child2 = child2 + parent1[cuts[numberOfCuts-1]:]\n",
    "    \n",
    "    return child1, child2"
   ]
  },
  {
   "cell_type": "code",
   "execution_count": 14,
   "metadata": {},
   "outputs": [],
   "source": [
    "# Sort population\n",
    "def sortPopulation(population):\n",
    "    population.sort(key=lambda x: fitness(x), reverse=False)\n",
    "    return population"
   ]
  },
  {
   "cell_type": "code",
   "execution_count": 15,
   "metadata": {},
   "outputs": [],
   "source": [
    "# Mutation flip bit\n",
    "def mutateFlipBit(individual):\n",
    "    individualList = list(individual)\n",
    "    for flips in range(random.randrange(maxNumberOfRandFlips)):\n",
    "        randFlip = random.randrange(len(individual))\n",
    "        if individualList[randFlip] == '0':\n",
    "            individualList[randFlip] = '1'\n",
    "        else:\n",
    "            individualList[randFlip] = '0'\n",
    "    newIndividual = ''.join(individualList)\n",
    "    return copy.deepcopy(newIndividual)"
   ]
  },
  {
   "cell_type": "code",
   "execution_count": 16,
   "metadata": {},
   "outputs": [],
   "source": [
    "# Definitions\n",
    "rastriginVariables = 10\n",
    "bitsResolution = 10\n",
    "variablesNumber = 10\n",
    "variableLimitsMin = -5.12\n",
    "variableLimitsMax = 5.12\n",
    "halfPopulationSize = 100 # Half population of a generation\n",
    "generations = 1000 # How many generations\n",
    "tournamentRounds = 1 # Rounds of tournament selection\n",
    "crossOverCutofPoints = 10\n",
    "chanceToMutate = 0.4 # Probability to mutate\n",
    "maxNumberOfRandFlips = 5 # How many positions can be fliped\n",
    "computationalBudget = 10000 # The computational budget is 10,000 fitness function evaluations.\n",
    "\n",
    "selectBest = 0.9 # Next generation selection \"Best\"\n",
    "selectTournament = 0.1 # Next generation selection \"Tournament\"\n",
    "selectRandom = 0 # Next generation selection \"Generate Random\""
   ]
  },
  {
   "cell_type": "markdown",
   "metadata": {},
   "source": [
    "### Main program"
   ]
  },
  {
   "cell_type": "code",
   "execution_count": 17,
   "metadata": {},
   "outputs": [],
   "source": [
    "# Generate half initial random population\n",
    "# Phenotype representation as binary\n",
    "population = []\n",
    "for individual in list(range(halfPopulationSize)):\n",
    "    population.append(randomIndividual())"
   ]
  },
  {
   "cell_type": "code",
   "execution_count": 18,
   "metadata": {},
   "outputs": [],
   "source": [
    "# Main generations loop\n",
    "genFitnessLog = []\n",
    "computationalBudgetUsage = 0\n",
    "rastriginCache = {}\n",
    "actualCrossOverCutofPoints = crossOverCutofPoints\n",
    "actualChanceToMutate = chanceToMutate\n",
    "random.seed()\n",
    "\n",
    "for gen in range(generations):\n",
    "    \n",
    "    # Check if we still have budget\n",
    "    if computationalBudgetUsage + halfPopulationSize > computationalBudget:\n",
    "        break\n",
    "    \n",
    "    # Create roulette whell for population\n",
    "    roulette = rouletteWheel(population)\n",
    "    \n",
    "    # Crossover population until it reaches full size\n",
    "    while len(population) <  + halfPopulationSize * 2:\n",
    "        parent1 = ''\n",
    "        parent2 = ''\n",
    "        \n",
    "        if random.random() < 0.5:\n",
    "            parent1 = tournament(population, tournamentRounds)\n",
    "        else:\n",
    "            parent1 = rouletteWheelSelection(population, roulette)\n",
    "        \n",
    "        if random.random() < 0.5:\n",
    "            parent2 = tournament(population, tournamentRounds)\n",
    "        else:\n",
    "            parent2 = rouletteWheelSelection(population, roulette)\n",
    "        \n",
    "        child1, child2 = crossover(parent1, parent2, actualCrossOverCutofPoints)\n",
    "        population.append(child1)\n",
    "        population.append(child2)\n",
    "\n",
    "    # Mutate some individuals\n",
    "    for i in range(len(population)):\n",
    "        if random.random() <= actualChanceToMutate:\n",
    "            population[i] = mutateFlipBit(population[i])\n",
    "\n",
    "    # Sort population according to fitness\n",
    "    population = sortPopulation(population)\n",
    "\n",
    "    # Print generation fitness\n",
    "    genFitness = fitness(population[0])\n",
    "    genFitnessLog.append(genFitness)\n",
    "    #print('Gen %i fitness 0=%.4f (Budget %i)' %(gen, genFitness, computationalBudgetUsage))\n",
    "\n",
    "    # Next generation\n",
    "    newPopulation = []\n",
    "    # Keep some of the best\n",
    "    for i in range(int(halfPopulationSize * selectBest)):\n",
    "        newPopulation.append((population[i]))\n",
    "    # Use tournament to get some more\n",
    "    for i in range(int(halfPopulationSize * selectTournament)):\n",
    "        newPopulation.append((tournament(population, tournamentRounds)))\n",
    "    # Generate some randoms\n",
    "    for i in range(int(halfPopulationSize * selectRandom)):\n",
    "        newPopulation.append((randomIndividual()))\n",
    "    \n",
    "    # Decay parameters\n",
    "    actualCrossOverCutofPoints = 1 + int(crossOverCutofPoints - ((computationalBudgetUsage / computationalBudget) * crossOverCutofPoints / 2) )\n",
    "    actualChanceToMutate = (chanceToMutate - ((computationalBudgetUsage / computationalBudget ) / 3) )\n",
    "    \n",
    "    population = newPopulation    "
   ]
  },
  {
   "cell_type": "code",
   "execution_count": 19,
   "metadata": {},
   "outputs": [
    {
     "name": "stdout",
     "output_type": "stream",
     "text": [
      "Found a Rastrigin solution with fitness 2.1730 on generation 82\n",
      "---\n",
      "x* = 0.9960 0.0050 -0.0250 -0.0050 0.0050 -1.0060 0.0050 -0.0050 -0.0050 0.0050 \n",
      "f* = 2.1730\n",
      "Total number of calls (or evaluations) of the fitness function: 9906\n",
      "---\n"
     ]
    },
    {
     "data": {
      "image/png": "[encoded data removed]",
      "text/plain": [
       "<Figure size 432x288 with 1 Axes>"
      ]
     },
     "metadata": {
      "needs_background": "light"
     },
     "output_type": "display_data"
    }
   ],
   "source": [
    "# Show results\n",
    "print('Found a Rastrigin solution with fitness %.4f on generation %i' %(fitness(population[0]), len(genFitnessLog)))\n",
    "print('---')\n",
    "print(\"x* = \" + \"%.4f \"*len(getNumbers(population[0])) % tuple(getNumbers(population[0])))\n",
    "print(\"f* = %.4f\" %(rastrigin(getNumbers(population[0]))) )\n",
    "print(\"Total number of calls (or evaluations) of the fitness function: %i\" %computationalBudgetUsage)\n",
    "print('---')\n",
    "# Plot evolution\n",
    "plt.plot(genFitnessLog)\n",
    "plt.title('Evolution')\n",
    "plt.ylabel('Rastrigin f(x)*')\n",
    "plt.xlabel('Generations')\n",
    "plt.show()"
   ]
  },
  {
   "cell_type": "markdown",
   "metadata": {},
   "source": [
    "### Comments\n",
    "\n",
    "#### The algorithm is an implementation of a mono objective genetic algorithm and is explained through the comments I put along the code. The algorithm seeks to minimize the function until it consumes the entire computational budget defined (there is a margin to prevent it from exceeding consumption). To avoid unnecessary budget consumption, I implemented a cache that stores the calculated results for each individual and does not evaluate the Rastrigin function when the result is already known. I noticed that it was necessary to reduce the mutation percentage parameters and crossover cutoff points as the budget was consumed, since, although useful at first, they were causing too much disturbance in the model and, after implementation, the result arrived closer to the minimum. The algorithm tries to find values of x* where f* are close to 2 and 3 most of the time, but it fails to reach the global minimum of f* = 0. I believe that, to reach the global minimum, the genetic algorithm should be allied with a local search engine."
   ]
  }
 ],
 "metadata": {
  "kernelspec": {
   "display_name": "Python 3",
   "language": "python",
   "name": "python3"
  },
  "language_info": {
   "codemirror_mode": {
    "name": "ipython",
    "version": 3
   },
   "file_extension": ".py",
   "mimetype": "text/x-python",
   "name": "python",
   "nbconvert_exporter": "python",
   "pygments_lexer": "ipython3",
   "version": "3.7.6"
  }
 },
 "nbformat": 4,
 "nbformat_minor": 2
}
